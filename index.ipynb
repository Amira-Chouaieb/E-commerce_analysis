{
 "cells": [
  {
   "cell_type": "markdown",
   "metadata": {},
   "source": [
    "<h1 > E-commerce </h1> \n",
    "<img src=\"./img/tof-ecommerce.jpg\" width=\"500\" height=\"300\">"
   ]
  },
  {
   "cell_type": "markdown",
   "metadata": {},
   "source": [
    "#### This dataset consists of orders made in different countries from December 2010 to December 2011. The company is a UK-based online retailer that mainly sells unique all-occasion gifts. Many of its customers are wholesalers."
   ]
  },
  {
   "cell_type": "code",
   "execution_count": 20,
   "metadata": {},
   "outputs": [],
   "source": [
    "# importation des bibliotheques\n",
    "import pandas as pd\n",
    "import numpy as np\n",
    "import matplotlib.pyplot as plt"
   ]
  },
  {
   "cell_type": "markdown",
   "metadata": {},
   "source": [
    "### uploading the dataset: "
   ]
  },
  {
   "cell_type": "code",
   "execution_count": 21,
   "metadata": {},
   "outputs": [],
   "source": [
    "commerce=pd.read_csv(\"./data/datacamp_workspace_export_2022-10-27 10_53_34.csv\")"
   ]
  },
  {
   "cell_type": "markdown",
   "metadata": {},
   "source": [
    "## Data Dictionary\n",
    "| Variable    | Explanation                                                                                                                       |\n",
    "|-------------|-----------------------------------------------------------------------------------------------------------------------------------|\n",
    "| InvoiceNo   | A 6-digit integral number uniquely assigned to each transaction. If this code starts with letter 'c' it indicates a cancellation. |\n",
    "| StockCode   | A 5-digit integral number uniquely assigned to each distinct product.                                                             |\n",
    "| Description | Product (item) name                                                                                                               |\n",
    "| Quantity    | The quantities of each product (item) per transaction                                                                             |\n",
    "| InvoiceDate | The day and time when each transaction was generated                                                                              |\n",
    "| UnitPrice   | Product price per unit in sterling (pound)                                                                                        |\n",
    "| CustomerID  | A 5-digit integral number uniquely assigned to each customer                                                                      |\n",
    "| Country     | The name of the country where each customer resides  "
   ]
  },
  {
   "cell_type": "markdown",
   "metadata": {},
   "source": [
    "### it is extremely important to realize the volume of data so i need to be aware of the dimensions of the data"
   ]
  },
  {
   "cell_type": "code",
   "execution_count": 22,
   "metadata": {},
   "outputs": [
    {
     "data": {
      "text/plain": [
       "(2500, 8)"
      ]
     },
     "execution_count": 22,
     "metadata": {},
     "output_type": "execute_result"
    }
   ],
   "source": [
    "commerce.shape"
   ]
  },
  {
   "cell_type": "markdown",
   "metadata": {},
   "source": [
    "### To get a quick overview and summary of the dataset"
   ]
  },
  {
   "cell_type": "code",
   "execution_count": 23,
   "metadata": {},
   "outputs": [
    {
     "name": "stdout",
     "output_type": "stream",
     "text": [
      "<class 'pandas.core.frame.DataFrame'>\n",
      "RangeIndex: 2500 entries, 0 to 2499\n",
      "Data columns (total 8 columns):\n",
      " #   Column       Non-Null Count  Dtype  \n",
      "---  ------       --------------  -----  \n",
      " 0   InvoiceNo    2500 non-null   object \n",
      " 1   StockCode    2500 non-null   object \n",
      " 2   Description  2490 non-null   object \n",
      " 3   Quantity     2500 non-null   int64  \n",
      " 4   InvoiceDate  2500 non-null   object \n",
      " 5   UnitPrice    2500 non-null   float64\n",
      " 6   CustomerID   1919 non-null   float64\n",
      " 7   Country      2500 non-null   object \n",
      "dtypes: float64(2), int64(1), object(5)\n",
      "memory usage: 156.4+ KB\n"
     ]
    }
   ],
   "source": [
    "commerce.info()    "
   ]
  },
  {
   "cell_type": "code",
   "execution_count": 24,
   "metadata": {},
   "outputs": [
    {
     "data": {
      "text/html": [
       "<div>\n",
       "<style scoped>\n",
       "    .dataframe tbody tr th:only-of-type {\n",
       "        vertical-align: middle;\n",
       "    }\n",
       "\n",
       "    .dataframe tbody tr th {\n",
       "        vertical-align: top;\n",
       "    }\n",
       "\n",
       "    .dataframe thead th {\n",
       "        text-align: right;\n",
       "    }\n",
       "</style>\n",
       "<table border=\"1\" class=\"dataframe\">\n",
       "  <thead>\n",
       "    <tr style=\"text-align: right;\">\n",
       "      <th></th>\n",
       "      <th>InvoiceNo</th>\n",
       "      <th>StockCode</th>\n",
       "      <th>Description</th>\n",
       "      <th>Quantity</th>\n",
       "      <th>InvoiceDate</th>\n",
       "      <th>UnitPrice</th>\n",
       "      <th>CustomerID</th>\n",
       "      <th>Country</th>\n",
       "    </tr>\n",
       "  </thead>\n",
       "  <tbody>\n",
       "    <tr>\n",
       "      <th>0</th>\n",
       "      <td>536365</td>\n",
       "      <td>85123A</td>\n",
       "      <td>WHITE HANGING HEART T-LIGHT HOLDER</td>\n",
       "      <td>6</td>\n",
       "      <td>12/1/10 8:26</td>\n",
       "      <td>2.55</td>\n",
       "      <td>17850.0</td>\n",
       "      <td>United Kingdom</td>\n",
       "    </tr>\n",
       "    <tr>\n",
       "      <th>1</th>\n",
       "      <td>536365</td>\n",
       "      <td>71053</td>\n",
       "      <td>WHITE METAL LANTERN</td>\n",
       "      <td>6</td>\n",
       "      <td>12/1/10 8:26</td>\n",
       "      <td>3.39</td>\n",
       "      <td>17850.0</td>\n",
       "      <td>United Kingdom</td>\n",
       "    </tr>\n",
       "    <tr>\n",
       "      <th>2</th>\n",
       "      <td>536365</td>\n",
       "      <td>84406B</td>\n",
       "      <td>CREAM CUPID HEARTS COAT HANGER</td>\n",
       "      <td>8</td>\n",
       "      <td>12/1/10 8:26</td>\n",
       "      <td>2.75</td>\n",
       "      <td>17850.0</td>\n",
       "      <td>United Kingdom</td>\n",
       "    </tr>\n",
       "    <tr>\n",
       "      <th>3</th>\n",
       "      <td>536365</td>\n",
       "      <td>84029G</td>\n",
       "      <td>KNITTED UNION FLAG HOT WATER BOTTLE</td>\n",
       "      <td>6</td>\n",
       "      <td>12/1/10 8:26</td>\n",
       "      <td>3.39</td>\n",
       "      <td>17850.0</td>\n",
       "      <td>United Kingdom</td>\n",
       "    </tr>\n",
       "    <tr>\n",
       "      <th>4</th>\n",
       "      <td>536365</td>\n",
       "      <td>84029E</td>\n",
       "      <td>RED WOOLLY HOTTIE WHITE HEART.</td>\n",
       "      <td>6</td>\n",
       "      <td>12/1/10 8:26</td>\n",
       "      <td>3.39</td>\n",
       "      <td>17850.0</td>\n",
       "      <td>United Kingdom</td>\n",
       "    </tr>\n",
       "  </tbody>\n",
       "</table>\n",
       "</div>"
      ],
      "text/plain": [
       "  InvoiceNo StockCode                          Description  Quantity  \\\n",
       "0    536365    85123A   WHITE HANGING HEART T-LIGHT HOLDER         6   \n",
       "1    536365     71053                  WHITE METAL LANTERN         6   \n",
       "2    536365    84406B       CREAM CUPID HEARTS COAT HANGER         8   \n",
       "3    536365    84029G  KNITTED UNION FLAG HOT WATER BOTTLE         6   \n",
       "4    536365    84029E       RED WOOLLY HOTTIE WHITE HEART.         6   \n",
       "\n",
       "    InvoiceDate  UnitPrice  CustomerID         Country  \n",
       "0  12/1/10 8:26       2.55     17850.0  United Kingdom  \n",
       "1  12/1/10 8:26       3.39     17850.0  United Kingdom  \n",
       "2  12/1/10 8:26       2.75     17850.0  United Kingdom  \n",
       "3  12/1/10 8:26       3.39     17850.0  United Kingdom  \n",
       "4  12/1/10 8:26       3.39     17850.0  United Kingdom  "
      ]
     },
     "execution_count": 24,
     "metadata": {},
     "output_type": "execute_result"
    }
   ],
   "source": [
    "commerce.head()"
   ]
  },
  {
   "cell_type": "code",
   "execution_count": 25,
   "metadata": {},
   "outputs": [
    {
     "data": {
      "text/html": [
       "<div>\n",
       "<style scoped>\n",
       "    .dataframe tbody tr th:only-of-type {\n",
       "        vertical-align: middle;\n",
       "    }\n",
       "\n",
       "    .dataframe tbody tr th {\n",
       "        vertical-align: top;\n",
       "    }\n",
       "\n",
       "    .dataframe thead th {\n",
       "        text-align: right;\n",
       "    }\n",
       "</style>\n",
       "<table border=\"1\" class=\"dataframe\">\n",
       "  <thead>\n",
       "    <tr style=\"text-align: right;\">\n",
       "      <th></th>\n",
       "      <th>InvoiceNo</th>\n",
       "      <th>StockCode</th>\n",
       "      <th>Description</th>\n",
       "      <th>Quantity</th>\n",
       "      <th>InvoiceDate</th>\n",
       "      <th>UnitPrice</th>\n",
       "      <th>CustomerID</th>\n",
       "      <th>Country</th>\n",
       "    </tr>\n",
       "  </thead>\n",
       "  <tbody>\n",
       "    <tr>\n",
       "      <th>2490</th>\n",
       "      <td>536592</td>\n",
       "      <td>20727</td>\n",
       "      <td>LUNCH BAG  BLACK SKULL.</td>\n",
       "      <td>2</td>\n",
       "      <td>12/1/10 17:06</td>\n",
       "      <td>4.21</td>\n",
       "      <td>NaN</td>\n",
       "      <td>United Kingdom</td>\n",
       "    </tr>\n",
       "    <tr>\n",
       "      <th>2491</th>\n",
       "      <td>536592</td>\n",
       "      <td>20733</td>\n",
       "      <td>GOLD MINI TAPE MEASURE</td>\n",
       "      <td>6</td>\n",
       "      <td>12/1/10 17:06</td>\n",
       "      <td>0.85</td>\n",
       "      <td>NaN</td>\n",
       "      <td>United Kingdom</td>\n",
       "    </tr>\n",
       "    <tr>\n",
       "      <th>2492</th>\n",
       "      <td>536592</td>\n",
       "      <td>20735</td>\n",
       "      <td>BLACK MINI TAPE MEASURE</td>\n",
       "      <td>4</td>\n",
       "      <td>12/1/10 17:06</td>\n",
       "      <td>0.85</td>\n",
       "      <td>NaN</td>\n",
       "      <td>United Kingdom</td>\n",
       "    </tr>\n",
       "    <tr>\n",
       "      <th>2493</th>\n",
       "      <td>536592</td>\n",
       "      <td>20752</td>\n",
       "      <td>BLUE POLKADOT WASHING UP GLOVES</td>\n",
       "      <td>1</td>\n",
       "      <td>12/1/10 17:06</td>\n",
       "      <td>4.21</td>\n",
       "      <td>NaN</td>\n",
       "      <td>United Kingdom</td>\n",
       "    </tr>\n",
       "    <tr>\n",
       "      <th>2494</th>\n",
       "      <td>536592</td>\n",
       "      <td>20754</td>\n",
       "      <td>RETROSPOT RED WASHING UP GLOVES</td>\n",
       "      <td>1</td>\n",
       "      <td>12/1/10 17:06</td>\n",
       "      <td>4.21</td>\n",
       "      <td>NaN</td>\n",
       "      <td>United Kingdom</td>\n",
       "    </tr>\n",
       "    <tr>\n",
       "      <th>2495</th>\n",
       "      <td>536592</td>\n",
       "      <td>20761</td>\n",
       "      <td>BLUE PAISLEY SKETCHBOOK</td>\n",
       "      <td>1</td>\n",
       "      <td>12/1/10 17:06</td>\n",
       "      <td>7.62</td>\n",
       "      <td>NaN</td>\n",
       "      <td>United Kingdom</td>\n",
       "    </tr>\n",
       "    <tr>\n",
       "      <th>2496</th>\n",
       "      <td>536592</td>\n",
       "      <td>20780</td>\n",
       "      <td>BLACK EAR MUFF HEADPHONES</td>\n",
       "      <td>1</td>\n",
       "      <td>12/1/10 17:06</td>\n",
       "      <td>11.02</td>\n",
       "      <td>NaN</td>\n",
       "      <td>United Kingdom</td>\n",
       "    </tr>\n",
       "    <tr>\n",
       "      <th>2497</th>\n",
       "      <td>536592</td>\n",
       "      <td>20846</td>\n",
       "      <td>ZINC HEART LATTICE T-LIGHT HOLDER</td>\n",
       "      <td>1</td>\n",
       "      <td>12/1/10 17:06</td>\n",
       "      <td>2.51</td>\n",
       "      <td>NaN</td>\n",
       "      <td>United Kingdom</td>\n",
       "    </tr>\n",
       "    <tr>\n",
       "      <th>2498</th>\n",
       "      <td>536592</td>\n",
       "      <td>20914</td>\n",
       "      <td>SET/5 RED RETROSPOT LID GLASS BOWLS</td>\n",
       "      <td>1</td>\n",
       "      <td>12/1/10 17:06</td>\n",
       "      <td>5.91</td>\n",
       "      <td>NaN</td>\n",
       "      <td>United Kingdom</td>\n",
       "    </tr>\n",
       "    <tr>\n",
       "      <th>2499</th>\n",
       "      <td>536592</td>\n",
       "      <td>20931</td>\n",
       "      <td>BLUE POT PLANT CANDLE</td>\n",
       "      <td>2</td>\n",
       "      <td>12/1/10 17:06</td>\n",
       "      <td>7.62</td>\n",
       "      <td>NaN</td>\n",
       "      <td>United Kingdom</td>\n",
       "    </tr>\n",
       "  </tbody>\n",
       "</table>\n",
       "</div>"
      ],
      "text/plain": [
       "     InvoiceNo StockCode                          Description  Quantity  \\\n",
       "2490    536592     20727              LUNCH BAG  BLACK SKULL.         2   \n",
       "2491    536592     20733              GOLD MINI TAPE MEASURE          6   \n",
       "2492    536592     20735             BLACK MINI TAPE MEASURE          4   \n",
       "2493    536592     20752      BLUE POLKADOT WASHING UP GLOVES         1   \n",
       "2494    536592     20754      RETROSPOT RED WASHING UP GLOVES         1   \n",
       "2495    536592     20761              BLUE PAISLEY SKETCHBOOK         1   \n",
       "2496    536592     20780            BLACK EAR MUFF HEADPHONES         1   \n",
       "2497    536592     20846    ZINC HEART LATTICE T-LIGHT HOLDER         1   \n",
       "2498    536592     20914  SET/5 RED RETROSPOT LID GLASS BOWLS         1   \n",
       "2499    536592     20931               BLUE POT PLANT CANDLE          2   \n",
       "\n",
       "        InvoiceDate  UnitPrice  CustomerID         Country  \n",
       "2490  12/1/10 17:06       4.21         NaN  United Kingdom  \n",
       "2491  12/1/10 17:06       0.85         NaN  United Kingdom  \n",
       "2492  12/1/10 17:06       0.85         NaN  United Kingdom  \n",
       "2493  12/1/10 17:06       4.21         NaN  United Kingdom  \n",
       "2494  12/1/10 17:06       4.21         NaN  United Kingdom  \n",
       "2495  12/1/10 17:06       7.62         NaN  United Kingdom  \n",
       "2496  12/1/10 17:06      11.02         NaN  United Kingdom  \n",
       "2497  12/1/10 17:06       2.51         NaN  United Kingdom  \n",
       "2498  12/1/10 17:06       5.91         NaN  United Kingdom  \n",
       "2499  12/1/10 17:06       7.62         NaN  United Kingdom  "
      ]
     },
     "execution_count": 25,
     "metadata": {},
     "output_type": "execute_result"
    }
   ],
   "source": [
    "commerce.tail(10)"
   ]
  },
  {
   "cell_type": "markdown",
   "metadata": {},
   "source": [
    "### to get more details generate descriptive statistics that summarize the dataset"
   ]
  },
  {
   "cell_type": "code",
   "execution_count": 26,
   "metadata": {},
   "outputs": [
    {
     "data": {
      "text/html": [
       "<div>\n",
       "<style scoped>\n",
       "    .dataframe tbody tr th:only-of-type {\n",
       "        vertical-align: middle;\n",
       "    }\n",
       "\n",
       "    .dataframe tbody tr th {\n",
       "        vertical-align: top;\n",
       "    }\n",
       "\n",
       "    .dataframe thead th {\n",
       "        text-align: right;\n",
       "    }\n",
       "</style>\n",
       "<table border=\"1\" class=\"dataframe\">\n",
       "  <thead>\n",
       "    <tr style=\"text-align: right;\">\n",
       "      <th></th>\n",
       "      <th>InvoiceNo</th>\n",
       "      <th>StockCode</th>\n",
       "      <th>Description</th>\n",
       "      <th>Quantity</th>\n",
       "      <th>InvoiceDate</th>\n",
       "      <th>UnitPrice</th>\n",
       "      <th>CustomerID</th>\n",
       "      <th>Country</th>\n",
       "    </tr>\n",
       "  </thead>\n",
       "  <tbody>\n",
       "    <tr>\n",
       "      <th>count</th>\n",
       "      <td>2500</td>\n",
       "      <td>2500</td>\n",
       "      <td>2490</td>\n",
       "      <td>2500.000000</td>\n",
       "      <td>2500</td>\n",
       "      <td>2500.000000</td>\n",
       "      <td>1919.000000</td>\n",
       "      <td>2500</td>\n",
       "    </tr>\n",
       "    <tr>\n",
       "      <th>unique</th>\n",
       "      <td>138</td>\n",
       "      <td>1175</td>\n",
       "      <td>1167</td>\n",
       "      <td>NaN</td>\n",
       "      <td>117</td>\n",
       "      <td>NaN</td>\n",
       "      <td>NaN</td>\n",
       "      <td>7</td>\n",
       "    </tr>\n",
       "    <tr>\n",
       "      <th>top</th>\n",
       "      <td>536544</td>\n",
       "      <td>22632</td>\n",
       "      <td>HAND WARMER SCOTTY DOG DESIGN</td>\n",
       "      <td>NaN</td>\n",
       "      <td>12/1/10 14:32</td>\n",
       "      <td>NaN</td>\n",
       "      <td>NaN</td>\n",
       "      <td>United Kingdom</td>\n",
       "    </tr>\n",
       "    <tr>\n",
       "      <th>freq</th>\n",
       "      <td>527</td>\n",
       "      <td>19</td>\n",
       "      <td>18</td>\n",
       "      <td>NaN</td>\n",
       "      <td>528</td>\n",
       "      <td>NaN</td>\n",
       "      <td>NaN</td>\n",
       "      <td>2341</td>\n",
       "    </tr>\n",
       "    <tr>\n",
       "      <th>mean</th>\n",
       "      <td>NaN</td>\n",
       "      <td>NaN</td>\n",
       "      <td>NaN</td>\n",
       "      <td>10.065200</td>\n",
       "      <td>NaN</td>\n",
       "      <td>3.701044</td>\n",
       "      <td>15637.112559</td>\n",
       "      <td>NaN</td>\n",
       "    </tr>\n",
       "    <tr>\n",
       "      <th>std</th>\n",
       "      <td>NaN</td>\n",
       "      <td>NaN</td>\n",
       "      <td>NaN</td>\n",
       "      <td>29.139317</td>\n",
       "      <td>NaN</td>\n",
       "      <td>12.328907</td>\n",
       "      <td>1848.418705</td>\n",
       "      <td>NaN</td>\n",
       "    </tr>\n",
       "    <tr>\n",
       "      <th>min</th>\n",
       "      <td>NaN</td>\n",
       "      <td>NaN</td>\n",
       "      <td>NaN</td>\n",
       "      <td>-24.000000</td>\n",
       "      <td>NaN</td>\n",
       "      <td>0.000000</td>\n",
       "      <td>12431.000000</td>\n",
       "      <td>NaN</td>\n",
       "    </tr>\n",
       "    <tr>\n",
       "      <th>25%</th>\n",
       "      <td>NaN</td>\n",
       "      <td>NaN</td>\n",
       "      <td>NaN</td>\n",
       "      <td>1.000000</td>\n",
       "      <td>NaN</td>\n",
       "      <td>1.250000</td>\n",
       "      <td>14307.000000</td>\n",
       "      <td>NaN</td>\n",
       "    </tr>\n",
       "    <tr>\n",
       "      <th>50%</th>\n",
       "      <td>NaN</td>\n",
       "      <td>NaN</td>\n",
       "      <td>NaN</td>\n",
       "      <td>3.000000</td>\n",
       "      <td>NaN</td>\n",
       "      <td>2.510000</td>\n",
       "      <td>15605.000000</td>\n",
       "      <td>NaN</td>\n",
       "    </tr>\n",
       "    <tr>\n",
       "      <th>75%</th>\n",
       "      <td>NaN</td>\n",
       "      <td>NaN</td>\n",
       "      <td>NaN</td>\n",
       "      <td>10.000000</td>\n",
       "      <td>NaN</td>\n",
       "      <td>4.210000</td>\n",
       "      <td>17841.000000</td>\n",
       "      <td>NaN</td>\n",
       "    </tr>\n",
       "    <tr>\n",
       "      <th>max</th>\n",
       "      <td>NaN</td>\n",
       "      <td>NaN</td>\n",
       "      <td>NaN</td>\n",
       "      <td>600.000000</td>\n",
       "      <td>NaN</td>\n",
       "      <td>569.770000</td>\n",
       "      <td>18229.000000</td>\n",
       "      <td>NaN</td>\n",
       "    </tr>\n",
       "  </tbody>\n",
       "</table>\n",
       "</div>"
      ],
      "text/plain": [
       "       InvoiceNo StockCode                    Description     Quantity  \\\n",
       "count       2500      2500                           2490  2500.000000   \n",
       "unique       138      1175                           1167          NaN   \n",
       "top       536544     22632  HAND WARMER SCOTTY DOG DESIGN          NaN   \n",
       "freq         527        19                             18          NaN   \n",
       "mean         NaN       NaN                            NaN    10.065200   \n",
       "std          NaN       NaN                            NaN    29.139317   \n",
       "min          NaN       NaN                            NaN   -24.000000   \n",
       "25%          NaN       NaN                            NaN     1.000000   \n",
       "50%          NaN       NaN                            NaN     3.000000   \n",
       "75%          NaN       NaN                            NaN    10.000000   \n",
       "max          NaN       NaN                            NaN   600.000000   \n",
       "\n",
       "          InvoiceDate    UnitPrice    CustomerID         Country  \n",
       "count            2500  2500.000000   1919.000000            2500  \n",
       "unique            117          NaN           NaN               7  \n",
       "top     12/1/10 14:32          NaN           NaN  United Kingdom  \n",
       "freq              528          NaN           NaN            2341  \n",
       "mean              NaN     3.701044  15637.112559             NaN  \n",
       "std               NaN    12.328907   1848.418705             NaN  \n",
       "min               NaN     0.000000  12431.000000             NaN  \n",
       "25%               NaN     1.250000  14307.000000             NaN  \n",
       "50%               NaN     2.510000  15605.000000             NaN  \n",
       "75%               NaN     4.210000  17841.000000             NaN  \n",
       "max               NaN   569.770000  18229.000000             NaN  "
      ]
     },
     "execution_count": 26,
     "metadata": {},
     "output_type": "execute_result"
    }
   ],
   "source": [
    "commerce.describe(include='all')"
   ]
  },
  {
   "cell_type": "code",
   "execution_count": 27,
   "metadata": {},
   "outputs": [
    {
     "name": "stdout",
     "output_type": "stream",
     "text": [
      "0       85123A\n",
      "1        71053\n",
      "2       84406B\n",
      "3       84029G\n",
      "4       84029E\n",
      "         ...  \n",
      "2495     20761\n",
      "2496     20780\n",
      "2497     20846\n",
      "2498     20914\n",
      "2499     20931\n",
      "Name: StockCode, Length: 2500, dtype: object\n"
     ]
    }
   ],
   "source": [
    "T=commerce[\"StockCode\"]\n",
    "print(commerce[\"StockCode\"])"
   ]
  },
  {
   "cell_type": "code",
   "execution_count": 28,
   "metadata": {},
   "outputs": [
    {
     "name": "stdout",
     "output_type": "stream",
     "text": [
      "0       17850.0\n",
      "1       17850.0\n",
      "2       17850.0\n",
      "3       17850.0\n",
      "4       17850.0\n",
      "         ...   \n",
      "2495        NaN\n",
      "2496        NaN\n",
      "2497        NaN\n",
      "2498        NaN\n",
      "2499        NaN\n",
      "Name: CustomerID, Length: 2500, dtype: float64\n"
     ]
    }
   ],
   "source": [
    "print(commerce[\"CustomerID\"])"
   ]
  },
  {
   "cell_type": "markdown",
   "metadata": {},
   "source": [
    "### change NAN to 0"
   ]
  },
  {
   "cell_type": "code",
   "execution_count": 29,
   "metadata": {},
   "outputs": [],
   "source": [
    "commerce[\"StockCode\"] = commerce[\"StockCode\"].fillna(0.0)\n",
    "commerce[\"CustomerID\"] = commerce[\"CustomerID\"].fillna(0.0)\n"
   ]
  },
  {
   "cell_type": "code",
   "execution_count": 30,
   "metadata": {},
   "outputs": [
    {
     "name": "stdout",
     "output_type": "stream",
     "text": [
      "0       85123A\n",
      "1        71053\n",
      "2       84406B\n",
      "3       84029G\n",
      "4       84029E\n",
      "         ...  \n",
      "2495     20761\n",
      "2496     20780\n",
      "2497     20846\n",
      "2498     20914\n",
      "2499     20931\n",
      "Name: StockCode, Length: 2500, dtype: object\n"
     ]
    }
   ],
   "source": [
    "print(commerce[\"StockCode\"])"
   ]
  },
  {
   "cell_type": "markdown",
   "metadata": {},
   "source": [
    "### trying to find out which countries are ordering online"
   ]
  },
  {
   "cell_type": "code",
   "execution_count": 31,
   "metadata": {},
   "outputs": [
    {
     "name": "stdout",
     "output_type": "stream",
     "text": [
      "['United Kingdom' 'France' 'Australia' 'Netherlands' 'Germany' 'Norway'\n",
      " 'EIRE']\n"
     ]
    }
   ],
   "source": [
    "print(commerce[\"Country\"].unique()) "
   ]
  },
  {
   "cell_type": "code",
   "execution_count": 32,
   "metadata": {},
   "outputs": [
    {
     "name": "stdout",
     "output_type": "stream",
     "text": [
      "569.77\n"
     ]
    }
   ],
   "source": [
    "# highest price\n",
    "Max_prix=commerce[\"UnitPrice\"].max()\n",
    "print(Max_prix)"
   ]
  },
  {
   "cell_type": "code",
   "execution_count": 33,
   "metadata": {},
   "outputs": [
    {
     "data": {
      "text/plain": [
       "1814    0.0\n",
       "Name: CustomerID, dtype: float64"
      ]
     },
     "execution_count": 33,
     "metadata": {},
     "output_type": "execute_result"
    }
   ],
   "source": [
    "commerce[commerce[\"UnitPrice\"]==Max_prix][\"CustomerID\"]"
   ]
  },
  {
   "cell_type": "markdown",
   "metadata": {},
   "source": [
    "# the quantity purchased in the various countries"
   ]
  },
  {
   "cell_type": "code",
   "execution_count": 34,
   "metadata": {},
   "outputs": [
    {
     "data": {
      "text/plain": [
       "Country\n",
       "Australia           107\n",
       "EIRE                243\n",
       "France              449\n",
       "Germany             117\n",
       "Netherlands          97\n",
       "Norway             1852\n",
       "United Kingdom    22298\n",
       "Name: Quantity, dtype: int64"
      ]
     },
     "execution_count": 34,
     "metadata": {},
     "output_type": "execute_result"
    }
   ],
   "source": [
    "Quantity = commerce.groupby('Country')['Quantity'].sum()\n",
    "Quantity"
   ]
  },
  {
   "cell_type": "markdown",
   "metadata": {},
   "source": [
    "### the number of customers who buy online compared to other countries"
   ]
  },
  {
   "cell_type": "code",
   "execution_count": 35,
   "metadata": {},
   "outputs": [
    {
     "data": {
      "text/plain": [
       "Country\n",
       "Australia           14\n",
       "EIRE                21\n",
       "France              20\n",
       "Germany             29\n",
       "Netherlands          2\n",
       "Norway              73\n",
       "United Kingdom    2341\n",
       "Name: CustomerID, dtype: int64"
      ]
     },
     "execution_count": 35,
     "metadata": {},
     "output_type": "execute_result"
    }
   ],
   "source": [
    "Quantity = commerce.groupby('Country')['CustomerID'].count()\n",
    "Quantity"
   ]
  },
  {
   "cell_type": "code",
   "execution_count": 36,
   "metadata": {},
   "outputs": [
    {
     "data": {
      "text/plain": [
       "InvoiceDate\n",
       "12/1/10 10:03    14\n",
       "12/1/10 10:19    24\n",
       "12/1/10 10:24     7\n",
       "12/1/10 10:29    10\n",
       "12/1/10 10:37     1\n",
       "                 ..\n",
       "12/1/10 9:53     13\n",
       "12/1/10 9:56      7\n",
       "12/1/10 9:57      3\n",
       "12/1/10 9:58      5\n",
       "12/1/10 9:59     14\n",
       "Name: CustomerID, Length: 117, dtype: int64"
      ]
     },
     "execution_count": 36,
     "metadata": {},
     "output_type": "execute_result"
    }
   ],
   "source": [
    "Date_Quantity = commerce.groupby('InvoiceDate')['CustomerID'].count()\n",
    "Date_Quantity"
   ]
  },
  {
   "cell_type": "code",
   "execution_count": 39,
   "metadata": {},
   "outputs": [
    {
     "data": {
      "text/plain": [
       "Country\n",
       "Australia           287\n",
       "EIRE                402\n",
       "France              522\n",
       "Germany              67\n",
       "Netherlands         111\n",
       "Norway             1142\n",
       "United Kingdom    35826\n",
       "Name: amount, dtype: int64"
      ]
     },
     "execution_count": 39,
     "metadata": {},
     "output_type": "execute_result"
    }
   ],
   "source": [
    "R=commerce['Quantity'].tolist()\n",
    "Prix=commerce['UnitPrice'].tolist()\n",
    "amount=[]\n",
    "P=0\n",
    "for i in range(len(R)):\n",
    "    amountID=int(R[i])*int(Prix[i])\n",
    "    amount.append(amountID)\n",
    "commerce['amount']=amount\n",
    "Country_amount = commerce.groupby('Country')['amount'].sum()\n",
    "Country_amount"
   ]
  }
 ],
 "metadata": {
  "kernelspec": {
   "display_name": "Python 3.10.1 64-bit",
   "language": "python",
   "name": "python3"
  },
  "language_info": {
   "codemirror_mode": {
    "name": "ipython",
    "version": 3
   },
   "file_extension": ".py",
   "mimetype": "text/x-python",
   "name": "python",
   "nbconvert_exporter": "python",
   "pygments_lexer": "ipython3",
   "version": "3.10.1"
  },
  "orig_nbformat": 4,
  "vscode": {
   "interpreter": {
    "hash": "e373281845eea32d0cb6c8ad9093fea86645240e4973ca00224e84b380bd873f"
   }
  }
 },
 "nbformat": 4,
 "nbformat_minor": 2
}
